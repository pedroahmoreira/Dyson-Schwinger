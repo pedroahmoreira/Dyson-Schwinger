{
 "cells": [
  {
   "cell_type": "markdown",
   "id": "0ca2c1b4",
   "metadata": {},
   "source": [
    "Como temos as transformadas\n",
    "\\begin{equation*}\n",
    "    \\phi(x) = \\int \\frac{d^4p}{(2\\pi)^4} \\ e^{- ip \\cdot x} \\phi(p), \\ \\ \\ \\ \\ \\ \\ J(x) = \\int \\frac{d^4q}{(2\\pi)^4} \\ e^{- iq \\cdot x} J(q),\n",
    "\\end{equation*}\n",
    "então no termo de fase do funcional gerador teremos\n",
    "\\begin{align*}\n",
    "    \\int d^4x \\ J(x) \\phi(x) =  \\int d^4x \\int \\frac{d^4q}{(2\\pi)^4} \\ e^{- ip \\cdot x} J(q) \\int \\frac{d^4p}{(2\\pi)^4} \\ e^{- iq \\cdot x} \\phi(p) &= \\iint \\frac{d^4q}{(2\\pi)^4} \\frac{d^4p}{(2\\pi)^4} \\ J(q) \\phi(p) \\int d^4x \\ e^{-i(p+q) \\cdot x} \\\\\n",
    "    &= \\iint \\frac{d^4q}{(2\\pi)^4} \\frac{d^4p}{(2\\pi)^4} \\ J(q) \\phi(p) (2\\pi)^4 \\delta^4(p + q),\n",
    "\\end{align*}\n",
    "portanto\n",
    "\\begin{equation}\n",
    "    \\int d^4x \\ J(x) \\phi(x) = \\int \\frac{d^4p}{(2\\pi)^4} \\ J(-p) \\phi(p).\n",
    "\\end{equation}\n",
    "Assim, uma derivada do tipo $(2\\pi)^4 \\frac{\\delta}{\\delta J(-p)}$ é necessária para recuperar um termo $\\phi(p)$.\n"
   ]
  }
 ],
 "metadata": {
  "language_info": {
   "name": "python"
  }
 },
 "nbformat": 4,
 "nbformat_minor": 5
}
